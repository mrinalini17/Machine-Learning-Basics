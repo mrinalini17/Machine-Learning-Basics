{
 "cells": [
  {
   "cell_type": "markdown",
   "id": "be9b2b46",
   "metadata": {},
   "source": [
    "## 1. Python Basics"
   ]
  },
  {
   "cell_type": "markdown",
   "id": "c91e51ce",
   "metadata": {},
   "source": [
    "Variables and Data Types"
   ]
  },
  {
   "cell_type": "code",
   "execution_count": 1,
   "id": "44e49cbc",
   "metadata": {},
   "outputs": [],
   "source": [
    "x = 10  # Integer\n",
    "y = 3.14  # Float\n",
    "z = \"Hello\"  # String\n",
    "is_valid = True  # Boolean"
   ]
  },
  {
   "cell_type": "markdown",
   "id": "410808d0",
   "metadata": {},
   "source": [
    "Lists, Tuples, and Dictionaries"
   ]
  },
  {
   "cell_type": "code",
   "execution_count": 2,
   "id": "252651fc",
   "metadata": {},
   "outputs": [],
   "source": [
    "# List (mutable)\n",
    "numbers = [1, 2, 3, 4, 5]\n",
    "\n",
    "# Tuple (immutable)\n",
    "coordinates = (10, 20)\n",
    "\n",
    "# Dictionary (key-value pairs)\n",
    "person = {\"name\": \"Alice\", \"age\": 25}"
   ]
  },
  {
   "cell_type": "markdown",
   "id": "64a594b9",
   "metadata": {},
   "source": [
    "Loops and Conditionals"
   ]
  },
  {
   "cell_type": "code",
   "execution_count": 3,
   "id": "efca1ce3",
   "metadata": {},
   "outputs": [
    {
     "name": "stdout",
     "output_type": "stream",
     "text": [
      "1\n",
      "2\n",
      "3\n",
      "4\n",
      "5\n",
      "y is greater than 2\n"
     ]
    }
   ],
   "source": [
    "for num in numbers:\n",
    "    print(num)\n",
    "\n",
    "if y > 2:\n",
    "    print(\"y is greater than 2\")"
   ]
  },
  {
   "cell_type": "markdown",
   "id": "b0e1e582",
   "metadata": {},
   "source": [
    "## 2. NumPy (Numerical Computation)"
   ]
  },
  {
   "cell_type": "markdown",
   "id": "64b682c1",
   "metadata": {},
   "source": [
    "Basic NumPy Operations"
   ]
  },
  {
   "cell_type": "code",
   "execution_count": 4,
   "id": "0a47206b",
   "metadata": {},
   "outputs": [],
   "source": [
    "import numpy as np\n",
    "\n",
    "# Creating an array\n",
    "arr = np.array([1, 2, 3, 4])\n",
    "\n",
    "# Reshaping arrays\n",
    "matrix = arr.reshape((2, 2))\n",
    "\n",
    "# Element-wise operations\n",
    "arr2 = arr * 2"
   ]
  },
  {
   "cell_type": "markdown",
   "id": "b219e704",
   "metadata": {},
   "source": [
    "## 3. Pandas (Data Manipulation)"
   ]
  },
  {
   "cell_type": "markdown",
   "id": "a40e5e18",
   "metadata": {},
   "source": [
    "Loading and Inspecting Data"
   ]
  },
  {
   "cell_type": "code",
   "execution_count": null,
   "id": "ab8a5790",
   "metadata": {},
   "outputs": [],
   "source": [
    "import pandas as pd\n",
    "\n",
    "# Creating a DataFrame\n",
    "data = {'Name': ['Alice', 'Bob'], 'Age': [25, 30]}\n",
    "df = pd.DataFrame(data)\n",
    "\n",
    "# Reading a CSV file\n",
    "df = pd.read_csv(\"data.csv\")\n",
    "\n",
    "# Checking dataset\n",
    "print(df.head())  # First 5 rows\n",
    "print(df.info())  # Summary"
   ]
  },
  {
   "cell_type": "markdown",
   "id": "8c83068b",
   "metadata": {},
   "source": [
    "## Matplotlib & Seaborn (Data Visualization)"
   ]
  },
  {
   "cell_type": "markdown",
   "id": "6bc69092",
   "metadata": {},
   "source": [
    "Basic Plotting"
   ]
  },
  {
   "cell_type": "code",
   "execution_count": null,
   "id": "80837972",
   "metadata": {},
   "outputs": [],
   "source": [
    "import matplotlib.pyplot as plt\n",
    "import seaborn as sns\n",
    "\n",
    "# Line plot\n",
    "plt.plot([1, 2, 3], [4, 5, 6])\n",
    "plt.show()\n",
    "\n",
    "# Histogram\n",
    "sns.histplot(df['Age'])\n",
    "plt.show()"
   ]
  },
  {
   "cell_type": "markdown",
   "id": "4b2970ef",
   "metadata": {},
   "source": [
    "## 5. Scikit-Learn (Machine Learning)"
   ]
  },
  {
   "cell_type": "markdown",
   "id": "6d173df3",
   "metadata": {},
   "source": [
    "Simple Linear Regression Example"
   ]
  },
  {
   "cell_type": "code",
   "execution_count": 6,
   "id": "ec36335a",
   "metadata": {},
   "outputs": [
    {
     "name": "stdout",
     "output_type": "stream",
     "text": [
      "[12.]\n"
     ]
    }
   ],
   "source": [
    "from sklearn.linear_model import LinearRegression\n",
    "import numpy as np\n",
    "\n",
    "# Data (X: Input, Y: Output)\n",
    "X = np.array([1, 2, 3, 4, 5]).reshape(-1, 1)\n",
    "Y = np.array([2, 4, 6, 8, 10])\n",
    "\n",
    "# Model Training\n",
    "model = LinearRegression()\n",
    "model.fit(X, Y)\n",
    "\n",
    "# Prediction\n",
    "predicted = model.predict([[6]])\n",
    "print(predicted)  # Output: 12"
   ]
  }
 ],
 "metadata": {
  "kernelspec": {
   "display_name": "Python 3 (ipykernel)",
   "language": "python",
   "name": "python3"
  },
  "language_info": {
   "codemirror_mode": {
    "name": "ipython",
    "version": 3
   },
   "file_extension": ".py",
   "mimetype": "text/x-python",
   "name": "python",
   "nbconvert_exporter": "python",
   "pygments_lexer": "ipython3",
   "version": "3.10.9"
  }
 },
 "nbformat": 4,
 "nbformat_minor": 5
}
